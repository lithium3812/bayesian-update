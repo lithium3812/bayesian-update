{
 "cells": [
  {
   "cell_type": "markdown",
   "metadata": {},
   "source": [
    "# Bayesian Inference for Data Quality assurance"
   ]
  },
  {
   "cell_type": "markdown",
   "metadata": {},
   "source": [
    "Author: Kenichi Maeda"
   ]
  },
  {
   "cell_type": "markdown",
   "metadata": {},
   "source": [
    "## Bayes Theorem and Bayesian Updating"
   ]
  },
  {
   "cell_type": "markdown",
   "metadata": {},
   "source": [
    "#### Conditional probability"
   ]
  },
  {
   "cell_type": "markdown",
   "metadata": {},
   "source": [
    "Conditional probability is probability of a certain event occurring given that another certain event has occurred.\n",
    "Probability of event A conditioned on B is denoted by P(A|B). Be aware of joint probability P(A,B), which is the probability of two events A and B occur together. Definition is:"
   ]
  },
  {
   "cell_type": "markdown",
   "metadata": {},
   "source": [
    "\\begin{equation}\n",
    "P(A|B) = \\frac{P(A,B)}{P(B)}\n",
    "\\end{equation}"
   ]
  },
  {
   "cell_type": "markdown",
   "metadata": {},
   "source": [
    "#### Bayese Theorem"
   ]
  },
  {
   "cell_type": "markdown",
   "metadata": {},
   "source": [
    "From the above definition and commutativity of joint probability P(B,A) = P(A,B)"
   ]
  },
  {
   "cell_type": "markdown",
   "metadata": {},
   "source": [
    "\\begin{equation}\n",
    "P(A|B) = \\frac{P(A,B)}{P(B)} = \\frac{P(B|A)P(A)}{P(B)}\n",
    "\\end{equation}"
   ]
  },
  {
   "cell_type": "markdown",
   "metadata": {},
   "source": [
    "This is called Bayes Theorem."
   ]
  },
  {
   "cell_type": "markdown",
   "metadata": {},
   "source": [
    "#### Bayesian updating"
   ]
  },
  {
   "cell_type": "markdown",
   "metadata": {},
   "source": [
    "Bayesian approach sees probability as observer's confidence (subjective probability), and put Bayes Theorem as the basis for all calculation. According to Bayesian Inference, one has a current state of confidence (a priori/prior probability), and then update his confidence everytime he achieves new information (Data). The updated confidence is called a posteriori/posterior probability, and this process is called Bayesian updating."
   ]
  },
  {
   "cell_type": "markdown",
   "metadata": {},
   "source": [
    "Now given that we have a certain hypothesis H in our mind with a priori probability P(H), we update our confidence upon a new data D to a posteriori probability P(H|D) according to Bayes Thorem:"
   ]
  },
  {
   "cell_type": "markdown",
   "metadata": {},
   "source": [
    "\\begin{equation}\n",
    "P(H|D) = \\frac{P(D|H)P(H)}{P(D)}\n",
    "\\end{equation}"
   ]
  },
  {
   "cell_type": "markdown",
   "metadata": {},
   "source": [
    "Here the conditional probability P(D|H) on the right hand side is likelihood of data D when hypothesis H is true. The denominator P(D) is the total probability of data D occuring for all scenarios. That is, it is calculated as"
   ]
  },
  {
   "cell_type": "markdown",
   "metadata": {},
   "source": [
    "\\begin{equation}\n",
    "P(D) = P(D|H)P(H) + P(D|\\neg H)P(\\neg H)\n",
    "\\end{equation}"
   ]
  },
  {
   "cell_type": "markdown",
   "metadata": {},
   "source": [
    "#### Application of Bayesian updating to data accuracy assurance"
   ]
  },
  {
   "cell_type": "markdown",
   "metadata": {},
   "source": [
    "We can apply this method to evaluate how much we can trust our data, especially those simple and categorical, e.g. headquarters, founded year."
   ]
  },
  {
   "cell_type": "markdown",
   "metadata": {},
   "source": [
    "To sum up our situation, we have a certain information (e.g. HQ) for some company (e.g. \"AtomLeap\") from a few sources (e.g. webpage of a startup event, business news, company's official website). Since any source is not 100% reliable and our scraper does't always work accurately, we are not sure if the obtained information is correct. And the biggest problem is, sometimes (often) they do not agree to one another (e.g. for HQ of AtomLeap, source A says \"Berlin\", whereas source B says \"Cologne\")."
   ]
  },
  {
   "cell_type": "markdown",
   "metadata": {},
   "source": [
    "**Suppose that we know the probability of each source giving correct information** (the central part of this project, we will come back to this later), this probability can be used as the likelihood $P(D|H)$ in Bayesian updating formula. If we obtain a certain information $H$ from a source with $90$% accuracy, then we start with a priori probability $P(H) = 90$. Then everytime we get a new data from different sources, depending whether it agrees with it ($H$) or not ($\\neg H$), we update our confidence for this hypothesis H based on the Bayesian formula."
   ]
  },
  {
   "cell_type": "markdown",
   "metadata": {},
   "source": [
    "## Implement Bayesian Updating algorithm"
   ]
  },
  {
   "cell_type": "code",
   "execution_count": 1,
   "metadata": {},
   "outputs": [],
   "source": [
    "class BayesianInference:\n",
    "    def __init__(self, beliefs=None):\n",
    "        self.beliefs = beliefs or dict()      #candidates and our confidences for them\n",
    "        self.history = []      #record of observations\n",
    "    \n",
    "    def update(self, src, observation):\n",
    "        reliability = data[src].get('reliability')     #probability of each source giving the correct information. Need to be given by independent investigations\n",
    "        \n",
    "        def likelihood(src, positive_observation:bool):     #conditional probability\n",
    "            if  positive_observation:\n",
    "                l = reliability\n",
    "            else:\n",
    "                l = 1 - reliability\n",
    "            return l\n",
    "        def total_prob(apriori, likelihood):     #denominator of the Bayes theorem\n",
    "            p = likelihood*apriori + (1-likelihood)*(1-apriori)\n",
    "            return p\n",
    "        \n",
    "        for hypothesis, apriori in self.beliefs.items():         #update confidences of values already observed\n",
    "            positive_observation = (observation == hypothesis)\n",
    "            l = likelihood(src, positive_observation)\n",
    "            p = total_prob(apriori, l)\n",
    "            aposteriori = l*apriori/p\n",
    "            self.beliefs.update({hypothesis: aposteriori})\n",
    "        if observation not in self.beliefs.keys():       #If the value has never been observed, calculate its confidence and add as a new condidate.\n",
    "            apriori = reliability\n",
    "            for entry in self.history:\n",
    "                l = likelihood(entry['source'], False)\n",
    "                p = total_prob(apriori, l)\n",
    "                apriori = l*apriori/p\n",
    "            aposteriori = apriori\n",
    "            self.beliefs.update({observation: aposteriori})\n",
    "        self.history.append({'source': src, 'result': observation})\n",
    "    \n",
    "    \"\"\"\n",
    "    Return the value with the highest confidence at the moment\n",
    "    \"\"\"\n",
    "    def estimate(self):\n",
    "        best_hypothesis = max(self.beliefs, key=self.beliefs.get)\n",
    "        confidence = self.beliefs[best_hypothesis]\n",
    "        return best_hypothesis, confidence"
   ]
  },
  {
   "cell_type": "markdown",
   "metadata": {},
   "source": [
    "## Generate examples of data from multiple imperfect sources"
   ]
  },
  {
   "cell_type": "markdown",
   "metadata": {},
   "source": [
    "You can simulate Bayesian Updating with the following code."
   ]
  },
  {
   "cell_type": "code",
   "execution_count": 2,
   "metadata": {},
   "outputs": [],
   "source": [
    "from numpy.random import choice\n",
    "\n",
    "\"\"\"\n",
    "Choose all source grades and their reliability. These have to be given from actual investigations.\n",
    "\"\"\"\n",
    "src_grades = {'A': 0.9, 'B': 0.8, 'C': 0.7, 'D': 0.6}\n",
    "\n",
    "\"\"\"\n",
    "Randomly generate a single observation. Specify the reliability of the source and choices of outcomes.\n",
    "Put the true value as the first entity of 'candidates'.\n",
    "\"\"\"\n",
    "def generate_observation(reliability, candidates:list):\n",
    "    weights = [reliability] + [(1-reliability)/(len(candidates)-1)]*(len(candidates)-1)\n",
    "    draw = choice(candidates, p=weights)\n",
    "    return draw\n",
    "\n",
    "\"\"\"\n",
    "Simulate a set of observations from the above code. Specify number of observations and choices of outcomes. \n",
    "You can also change percentage of source grades. If not specified, each grade of sources appear evenly.\n",
    "\"\"\"\n",
    "def generate_data_example(num, candidates, src_grade_weights=None):\n",
    "    data = dict()\n",
    "    src_list = choice(list(src_grades.keys()), size=num, p=src_grade_weights)\n",
    "    for i in range(0, num):\n",
    "        reliability = src_grades[src_list[i]]\n",
    "        observation = generate_observation(reliability, candidates)\n",
    "        src_label = f'S{i+1}'\n",
    "        data[src_label] = {'reliability': reliability, 'observation': observation}\n",
    "    return data"
   ]
  },
  {
   "cell_type": "code",
   "execution_count": 3,
   "metadata": {
    "scrolled": true
   },
   "outputs": [
    {
     "data": {
      "text/plain": [
       "{'S1': {'reliability': 0.8, 'observation': 'Berlin'},\n",
       " 'S2': {'reliability': 0.6, 'observation': 'Berlin'},\n",
       " 'S3': {'reliability': 0.9, 'observation': 'Berlin'},\n",
       " 'S4': {'reliability': 0.7, 'observation': 'Berlin'},\n",
       " 'S5': {'reliability': 0.7, 'observation': 'Berlin'},\n",
       " 'S6': {'reliability': 0.7, 'observation': 'Munich'},\n",
       " 'S7': {'reliability': 0.6, 'observation': 'Munich'},\n",
       " 'S8': {'reliability': 0.7, 'observation': 'Berlin'},\n",
       " 'S9': {'reliability': 0.6, 'observation': 'Cologne'},\n",
       " 'S10': {'reliability': 0.8, 'observation': 'Berlin'}}"
      ]
     },
     "execution_count": 3,
     "metadata": {},
     "output_type": "execute_result"
    }
   ],
   "source": [
    "data = generate_data_example(10, ['Berlin', 'Cologne', 'Munich'])\n",
    "data"
   ]
  },
  {
   "cell_type": "code",
   "execution_count": 26,
   "metadata": {},
   "outputs": [],
   "source": [
    "#One good example for simulation\n",
    "\"\"\"\n",
    "data = {\n",
    "    'S1': {'reliability': 0.6, 'observation': 'Cologne'},\n",
    "    'S2': {'reliability': 0.6, 'observation': 'Berlin'},\n",
    "    'S3': {'reliability': 0.8, 'observation': 'Munich'},\n",
    "    'S4': {'reliability': 0.6, 'observation': 'Berlin'},\n",
    "    'S5': {'reliability': 0.7, 'observation': 'Berlin'},\n",
    "    'S6': {'reliability': 0.9, 'observation': 'Berlin'},\n",
    "    'S7': {'reliability': 0.8, 'observation': 'Berlin'},\n",
    "    'S8': {'reliability': 0.9, 'observation': 'Berlin'},\n",
    "    'S9': {'reliability': 0.6, 'observation': 'Munich'},\n",
    "    'S10': {'reliability': 0.7, 'observation': 'Munich'}\n",
    "}\n",
    "\"\"\""
   ]
  },
  {
   "cell_type": "markdown",
   "metadata": {},
   "source": [
    "## Simulate Bayesian Updating"
   ]
  },
  {
   "cell_type": "code",
   "execution_count": 4,
   "metadata": {},
   "outputs": [],
   "source": [
    "import matplotlib.pyplot as plt"
   ]
  },
  {
   "cell_type": "code",
   "execution_count": 5,
   "metadata": {},
   "outputs": [],
   "source": [
    "data_iter = iter(data)"
   ]
  },
  {
   "cell_type": "code",
   "execution_count": 6,
   "metadata": {},
   "outputs": [],
   "source": [
    "bayesian = BayesianInference()"
   ]
  },
  {
   "cell_type": "markdown",
   "metadata": {},
   "source": [
    "Visually demonstrate accumulated confidence. Run the next function repeatedly!"
   ]
  },
  {
   "cell_type": "code",
   "execution_count": 7,
   "metadata": {},
   "outputs": [],
   "source": [
    "def simulate(data_iter:iter):   #input data as iterator\n",
    "    src = next(data_iter)\n",
    "\n",
    "    fig = plt.figure()\n",
    "\n",
    "    observation = data[src]['observation']\n",
    "    bayesian.update(src, observation)\n",
    "    print(f'Update with {src}: {observation}')\n",
    "    beliefs = bayesian.beliefs\n",
    "    print(f'Hypothesis and confidence: {beliefs}')\n",
    "    fig.clf()\n",
    "    plt.bar(beliefs.keys(), beliefs.values())\n",
    "    return"
   ]
  },
  {
   "cell_type": "code",
   "execution_count": 17,
   "metadata": {},
   "outputs": [
    {
     "name": "stdout",
     "output_type": "stream",
     "text": [
      "Update with S10: Berlin\n",
      "Hypothesis and confidence: {'Berlin': 0.9980903882877149, 'Munich': 0.003601547331446105, 'Cologne': 0.014420910319963964}\n"
     ]
    },
    {
     "data": {
      "image/png": "[encoded data removed]",
      "text/plain": [
       "<Figure size 432x288 with 1 Axes>"
      ]
     },
     "metadata": {
      "needs_background": "light"
     },
     "output_type": "display_data"
    }
   ],
   "source": [
    "simulate(data_iter)"
   ]
  },
  {
   "cell_type": "code",
   "execution_count": 18,
   "metadata": {},
   "outputs": [
    {
     "data": {
      "text/plain": [
       "[{'source': 'S1', 'result': 'Berlin'},\n",
       " {'source': 'S2', 'result': 'Berlin'},\n",
       " {'source': 'S3', 'result': 'Berlin'},\n",
       " {'source': 'S4', 'result': 'Berlin'},\n",
       " {'source': 'S5', 'result': 'Berlin'},\n",
       " {'source': 'S6', 'result': 'Munich'},\n",
       " {'source': 'S7', 'result': 'Munich'},\n",
       " {'source': 'S8', 'result': 'Berlin'},\n",
       " {'source': 'S9', 'result': 'Cologne'},\n",
       " {'source': 'S10', 'result': 'Berlin'}]"
      ]
     },
     "execution_count": 18,
     "metadata": {},
     "output_type": "execute_result"
    }
   ],
   "source": [
    "bayesian.history"
   ]
  },
  {
   "cell_type": "code",
   "execution_count": 19,
   "metadata": {},
   "outputs": [
    {
     "data": {
      "text/plain": [
       "('Berlin', 0.9980903882877149)"
      ]
     },
     "execution_count": 19,
     "metadata": {},
     "output_type": "execute_result"
    }
   ],
   "source": [
    "bayesian.estimate()"
   ]
  },
  {
   "cell_type": "markdown",
   "metadata": {},
   "source": [
    "## Reliability of each source"
   ]
  },
  {
   "cell_type": "markdown",
   "metadata": {},
   "source": [
    "As mentioned earlier, it is crucial for this approach to know the reliability of each source. Considering we have to use so many different sources, it is unrealistic to establish some predictive model to estimate it. So I would like to propose to classify sources into a several types and at least assign reliability to each of those types. Then we can **investigate the reliability of each source type by comparing our data to some data that we can believe (at least almost) certainly correct.**"
   ]
  },
  {
   "cell_type": "markdown",
   "metadata": {},
   "source": [
    "#### Source types"
   ]
  },
  {
   "cell_type": "markdown",
   "metadata": {},
   "source": [
    "I propose the following source types."
   ]
  },
  {
   "cell_type": "markdown",
   "metadata": {},
   "source": [
    "1. Official websites\n",
    "2. Annual reports\n",
    "3. Company list webpages (e.g. startup list)\n",
    "4. Texts (e.g. news articles)\n",
    "5. Company profile page of data platforms (one company in one page)\n",
    "6. Wikipedia\n",
    "7. Crunchbase\n",
    "8. Manual"
   ]
  },
  {
   "cell_type": "markdown",
   "metadata": {},
   "source": [
    "Probably we have to implement a source type classifier for 3, 4, 5 (not page classifier)"
   ]
  },
  {
   "cell_type": "markdown",
   "metadata": {},
   "source": [
    "Or if the classification is difficult, we can just assign the same reliability to all sources."
   ]
  },
  {
   "cell_type": "markdown",
   "metadata": {},
   "source": [
    "## Data gathering"
   ]
  },
  {
   "cell_type": "markdown",
   "metadata": {},
   "source": [
    "Another benefit of this method is that now we don't have to be worried about the quality of each source/scraping so much anymore. We can just confirm data with as many sources as possible, and no matter how bad each source is, we will reach the correct information at some point."
   ]
  },
  {
   "cell_type": "markdown",
   "metadata": {},
   "source": [
    "Until now, our data acquisition paradigm has been passive. We collected information from given data sources, and therefore for many minor companies we only have confirmation from a single source. Instead, I suggest active data acquisition, that is, crawling web and use random sources there for specific data. In the example of AtomLeap's HQ, if you google \"AtomLeap headquarters\" then you will see a lot of pages mentioning this information. We just need to jump in each page and collect the corresponding part until our confidence for this information to be satisfactory high (>98%?)."
   ]
  },
  {
   "cell_type": "code",
   "execution_count": null,
   "metadata": {},
   "outputs": [],
   "source": []
  }
 ],
 "metadata": {
  "kernelspec": {
   "display_name": "Python 3",
   "language": "python",
   "name": "python3"
  },
  "language_info": {
   "codemirror_mode": {
    "name": "ipython",
    "version": 3
   },
   "file_extension": ".py",
   "mimetype": "text/x-python",
   "name": "python",
   "nbconvert_exporter": "python",
   "pygments_lexer": "ipython3",
   "version": "3.8.3"
  }
 },
 "nbformat": 4,
 "nbformat_minor": 4
}
